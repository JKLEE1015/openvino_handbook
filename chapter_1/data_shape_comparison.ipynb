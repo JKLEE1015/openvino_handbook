{
 "cells": [
  {
   "cell_type": "code",
   "execution_count": 3,
   "metadata": {},
   "outputs": [
    {
     "name": "stdout",
     "output_type": "stream",
     "text": [
      "(577, 800, 3) uint8 [40 59 56]\n"
     ]
    }
   ],
   "source": [
    "import cv2\n",
    "img = cv2.imread(\"./coco.jpg\")\n",
    "print(img.shape, img.dtype, img[100,100])"
   ]
  },
  {
   "cell_type": "code",
   "execution_count": 4,
   "metadata": {},
   "outputs": [
    {
     "name": "stdout",
     "output_type": "stream",
     "text": [
      "<ConstOutput: names[images] shape[1,3,224,224] type: f32>\n"
     ]
    }
   ],
   "source": [
    "from openvino import Core\n",
    "core = Core()\n",
    "compiled_model = core.compile_model(\"yolov8n-cls.xml\")\n",
    "print(compiled_model.inputs[0])"
   ]
  }
 ],
 "metadata": {
  "kernelspec": {
   "display_name": "ov_book",
   "language": "python",
   "name": "python3"
  },
  "language_info": {
   "codemirror_mode": {
    "name": "ipython",
    "version": 3
   },
   "file_extension": ".py",
   "mimetype": "text/x-python",
   "name": "python",
   "nbconvert_exporter": "python",
   "pygments_lexer": "ipython3",
   "version": "3.11.5"
  }
 },
 "nbformat": 4,
 "nbformat_minor": 2
}
